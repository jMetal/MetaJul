{
 "cells": [
  {
   "cell_type": "markdown",
   "id": "7761d42f",
   "metadata": {},
   "source": [
    "# Defining optimization problems \n",
    "In this notebook, we show how optimization problems can be defined in MetaJul. We focus first on continuous problems and after that we include examples for binary problems."
   ]
  },
  {
   "cell_type": "markdown",
   "id": "20b60cf6",
   "metadata": {},
   "source": [
    "## Continuous problems\n",
    "A continuous problem is characterized by:\n",
    "\n",
    "* A vector of ``Bounds`` objects, specifying the lower and upper bounds of the decision variables, which can be integer or real values\n",
    "* A vector containing the objective values\n",
    "* A vector contining the overall constraint violation values\n",
    "* The problem name\n",
    "\n",
    "so the point is how to create a problem including these elements. We use two approaches, which are ilustranted next. Both approaches make use of a ``createSolution()`` function that creates a solution whose variables are randomly initialized from the problem bounds:\n",
    "\n",
    "```julia\n",
    "function createSolution(problem::AbstractContinuousProblem{T})::ContinuousSolution{T} where {T<:Number}\n",
    "  x = [problem.bounds[i].lowerBound + rand() * (problem.bounds[i].upperBound - problem.bounds[i].lowerBound) for i in 1:length(problem.bounds)]\n",
    "\n",
    "  return ContinuousSolution{T}(x, zeros(numberOfObjectives(problem)), zeros(numberOfConstraints(problem)), Dict(), problem.bounds)\n",
    "end\n",
    "```"
   ]
  },
  {
   "cell_type": "markdown",
   "id": "267837a9",
   "metadata": {},
   "source": [
    "### Method 1: Using the struct ``ContinuousProblem``\n",
    "\n",
    "The first approach is to create them in a dynamic way by creating an instance of the ``ContinuousProblem`` struct defined in ``src/problem/continuousProblem.jl``:\n",
    "```julia\n",
    "abstract type AbstractContinuousProblem{T<:Number} <: Problem{T} end\n",
    "\n",
    "mutable struct ContinuousProblem{T} <: AbstractContinuousProblem{T}\n",
    "  bounds::Vector{Bounds{T}}\n",
    "  objectives::Vector{Function}\n",
    "  constraints::Vector{Function}\n",
    "  name::String\n",
    "end\n",
    "```"
   ]
  },
  {
   "cell_type": "markdown",
   "id": "65958db8",
   "metadata": {},
   "source": [
    "Let us suppose that we intend to implement problem Schaffer, a continuous unconstrained float problem:\n",
    "\n",
    "\\begin{align}\n",
    "f_1(x) & = x \\\\\n",
    "f_2(x) & = (x-2)^2 \\\\\n",
    "x & \\in [-10^3, 10^3] \n",
    "\\end{align}\n",
    "\n",
    "We can create the problem in this way:"
   ]
  },
  {
   "cell_type": "code",
   "execution_count": 1,
   "id": "44759988",
   "metadata": {},
   "outputs": [],
   "source": [
    "using MetaJul\n",
    "\n",
    "schaffer = ContinuousProblem{Real}(\"Schaffer\")\n",
    "\n",
    "f = x -> x[1] * x[1]\n",
    "g = x -> (x[1] - 2.0) * (x[1] - 2.0)\n",
    "\n",
    "addObjective(schaffer, f) \n",
    "addObjective(schaffer, g)\n",
    "\n",
    "addVariable(schaffer, Bounds{Real}(-1000.0, 1000.0)) ;"
   ]
  },
  {
   "cell_type": "markdown",
   "id": "80ce96f9",
   "metadata": {},
   "source": [
    "As this is a benchmark problem, we can encapsulate this code into a function to avoid having to define it whenever we intend to solve it: \n",
    "\n",
    "```julia\n",
    "function schaffer()\n",
    "  problem = ContinuousProblem{Real}(\"Schaffer\")\n",
    "\n",
    "  f = x -> x[1] * x[1]\n",
    "  g = x -> (x[1] - 2.0) * (x[1] - 2.0)\n",
    "\n",
    "  addObjective(problem, f)\n",
    "  addObjective(problem, g)\n",
    "    \n",
    "  addVariable(problem, Bounds{Real}(-1000.0, 1000.0))\n",
    "\n",
    "  return problem\n",
    "end\n",
    "\n",
    "```"
   ]
  },
  {
   "cell_type": "markdown",
   "id": "7688f6e8",
   "metadata": {},
   "source": [
    "To get the elements of a problem created in this way, the following functions are provided:\n",
    "```julia\n",
    "\n",
    "function numberOfVariables(problem::ContinuousProblem{T}) where {T}\n",
    "  return length(problem.bounds)\n",
    "end\n",
    "\n",
    "function numberOfObjectives(problem::ContinuousProblem{T}) where {T}\n",
    "  return length(problem.objectives)\n",
    "end\n",
    "\n",
    "function numberOfConstraints(problem::ContinuousProblem{T}) where {T}\n",
    "  return length(problem.constraints)\n",
    "end\n",
    "\n",
    "function name(problem::ContinuousProblem{T}) where {T}\n",
    "  return problem.name\n",
    "end\n",
    "\n",
    "function bounds(problem::ContinuousProblem{T}) where {T}\n",
    "  return problem.bounds\n",
    "end\n",
    "\n",
    "```"
   ]
  },
  {
   "cell_type": "code",
   "execution_count": 2,
   "id": "d496dfdc",
   "metadata": {},
   "outputs": [
    {
     "name": "stdout",
     "output_type": "stream",
     "text": [
      "Number of variables: 1\n",
      "Number of objectives: 2\n",
      "Number of constraints: 0\n",
      "Name: Schaffer\n",
      "Bounds: Bounds{Real}[Bounds{Real}(-1000.0, 1000.0)]\n"
     ]
    }
   ],
   "source": [
    "println(\"Number of variables: \", numberOfVariables(schaffer))\n",
    "println(\"Number of objectives: \", numberOfObjectives(schaffer))\n",
    "println(\"Number of constraints: \", numberOfConstraints(schaffer))\n",
    "println(\"Name: \", name(schaffer))\n",
    "println(\"Bounds: \", bounds(schaffer));"
   ]
  },
  {
   "cell_type": "markdown",
   "id": "10cbc2cb",
   "metadata": {},
   "source": [
    "When a new solution is created, it must be evaluated to compute its objective values from the problem. The function for solution evaluations is common to all the problems created using the ``ContinuousProblem``struct: \n",
    "```julia\n",
    "function evaluate(solution::ContinuousSolution{T}, problem::ContinuousProblem{T})::ContinuousSolution{T} where {T<:Number}\n",
    "  for i in 1:length(problem.objectives)\n",
    "    solution.objectives[i] = problem.objectives[i](solution.variables)\n",
    "  end\n",
    "\n",
    "  for i in 1:length(problem.constraints)\n",
    "    solution.constraints[i] = problem.constraints[i](solution.variables)\n",
    "  end\n",
    "\n",
    "  return solution\n",
    "end\n",
    "\n",
    "```"
   ]
  },
  {
   "cell_type": "markdown",
   "id": "e15d1e76",
   "metadata": {},
   "source": [
    "We use the same approach to implement the following integer constrained continuous problem:\n",
    "\n",
    "\\begin{align}\n",
    "max f_1(\\vec{x}) & = x_1 + x_2 \\\\\n",
    "min f_2(\\vec{x}) & = x_1 + 3x_2 \\\\\n",
    "s.t. \\\\\n",
    "2x_1 + 3x_2 & \\leq 30 \\\\\n",
    "3x_1 + 2x_2 & \\leq 30 \\\\\n",
    "x_1 - x_2 & \\leq 5.5 \\\\\n",
    "x & \\in [0, 20]\n",
    "\\end{align}"
   ]
  },
  {
   "cell_type": "markdown",
   "id": "6ac100e9",
   "metadata": {},
   "source": [
    "To implement this problem in MetaJul we have take into account:\n",
    "\n",
    "- All the functions are supposed to be minimized, so the first objective has to multiplied by -1\n",
    "- The constraints must be in the form `expression >= 0`\n",
    "\n",
    "The code is:"
   ]
  },
  {
   "cell_type": "code",
   "execution_count": 3,
   "id": "a8b22e2a",
   "metadata": {},
   "outputs": [],
   "source": [
    "problem = ContinuousProblem{Int64}(\"integerProblem\")\n",
    "\n",
    "addVariable(problem, Bounds{Int64}(0, 20))  \n",
    "addVariable(problem, Bounds{Int64}(0, 20)) \n",
    "\n",
    "f1 = x -> -1.0 * (x[1] + x[2]) # objective to maximize\n",
    "f2 = x -> x[1] + 3 * x[2]      # objective to minimize\n",
    "\n",
    "addObjective(problem, f1)\n",
    "addObjective(problem, f2)\n",
    "\n",
    "c1 = x -> -2 * x[1] - 3 * x[2] + 30.0\n",
    "c2 = x -> -3 * x[1] - 2 * x[2] + 30.0\n",
    "c3 = x -> -x[1] + x[2] + 5.5\n",
    "\n",
    "addConstraint(problem, c1)\n",
    "addConstraint(problem, c2)\n",
    "addConstraint(problem, c3) ;"
   ]
  },
  {
   "cell_type": "code",
   "execution_count": 4,
   "id": "5f44c19b",
   "metadata": {},
   "outputs": [
    {
     "name": "stdout",
     "output_type": "stream",
     "text": [
      "Number of variables: 2\n",
      "Number of objectives: 2\n",
      "Number of constraints: 3\n",
      "Name: integerProblem\n",
      "Bounds: Bounds{Int64}[Bounds{Int64}(0, 20), Bounds{Int64}(0, 20)]\n"
     ]
    }
   ],
   "source": [
    "println(\"Number of variables: \", numberOfVariables(problem))\n",
    "println(\"Number of objectives: \", numberOfObjectives(problem))\n",
    "println(\"Number of constraints: \", numberOfConstraints(problem))\n",
    "println(\"Name: \", name(problem))\n",
    "println(\"Bounds: \", bounds(problem));"
   ]
  },
  {
   "cell_type": "markdown",
   "id": "7f31d52c",
   "metadata": {},
   "source": [
    "### Method 2: Creating a specific struct for the problem"
   ]
  },
  {
   "cell_type": "markdown",
   "id": "8580beb0",
   "metadata": {},
   "source": [
    "There are problems whose functions are not independent (e.g., the formulation of a function includes other function), so the approach of using the ``ContinuousProblem`` struct may not be apropriate. An example is the ZDT6 problem, in which the second objective contains the value of evaluation the first one:"
   ]
  },
  {
   "cell_type": "markdown",
   "id": "5a3b386e",
   "metadata": {},
   "source": [
    "$$\n",
    "f_1(\\vec{x}) = 1 - exp(-4x_1)sin^6(6{\\pi}x_1) \n",
    "$$\n",
    "$$\n",
    "f_2(\\vec{x}) = g(\\vec{x})[1 - (f_1(\\vec{x})/g(\\vec{x}))^2]\n",
    "$$\n",
    "$$\n",
    "g(\\vec{x}) = 1 + 9[(\\sum_{i=2}^{n}x_i)/(n - 1)]^0.25\n",
    "$$\n",
    "$$\n",
    "x \\in [0.0, 1.0]\n",
    "$$"
   ]
  },
  {
   "cell_type": "markdown",
   "id": "3436659b",
   "metadata": {},
   "source": [
    "This problem can be implemented as follows. First, we create a struct called ``ZDT6`` to contain the problem bounds:\n",
    "    \n",
    "```julia\n",
    "struct ProblemZDT6 <: AbstractContinuousProblem{Float64}\n",
    "  bounds::Vector{Bounds{Float64}}\n",
    "end\n",
    "```"
   ]
  },
  {
   "cell_type": "markdown",
   "id": "1d66030a",
   "metadata": {},
   "source": [
    "Next we define a function called ``ZDT6()`` which initializes the problem bounds and the set of functions to retrieve the problem data:\n",
    "\n",
    "```julia\n",
    "function ZDT6(numberOfVariables::Int=10)\n",
    "  bounds = [Bounds{Float64}(0.0, 1.0) for _ in range(1, numberOfVariables)]\n",
    "\n",
    "  return ProblemZDT6(bounds)\n",
    "end\n",
    "\n",
    "function numberOfVariables(problem::ProblemZDT6)\n",
    "  return length(problem.bounds)\n",
    "end\n",
    "\n",
    "function numberOfObjectives(problem::ProblemZDT6)\n",
    "  return 2\n",
    "end\n",
    "\n",
    "function numberOfConstraints(problem::ProblemZDT6)\n",
    "  return 0\n",
    "end\n",
    "\n",
    "function bounds(problem::ProblemZDT6)\n",
    "  return problem.bounds\n",
    "end\n",
    "\n",
    "function name(problem::ProblemZDT6)\n",
    "  return \"ZDT6\"\n",
    "end\n",
    "\n",
    "```"
   ]
  },
  {
   "cell_type": "markdown",
   "id": "6f800c1a",
   "metadata": {},
   "source": [
    "The last step is to implement the ``evaluate`` method containing the code of the objective functions:\n",
    "```julia\n",
    "function evaluate(solution::ContinuousSolution{Float64}, problem::ProblemZDT6)::ContinuousSolution{Float64}\n",
    "  x = solution.variables\n",
    "  @assert length(x) == numberOfVariables(problem) \"The number of variables of the solution to be evaluated is not correct\"\n",
    "\n",
    "  function evalG(x::Vector{Float64})\n",
    "    g = sum(x[i] for i in range(2,length(x)))\n",
    "    g = g / (length(x) - 1.0)\n",
    "\n",
    "    g = ^(g, 0.25)\n",
    "    g = 9.0 * g\n",
    "    g = 1.0 + g\n",
    "\n",
    "    return g\n",
    "  end\n",
    "\n",
    "  function evalH(v::Float64, g::Float64)\n",
    "    return 1.0 - ^(v/g, 2.0)\n",
    "  end\n",
    "\n",
    "  f1 = 1.0 - exp(-4.0*x[1]) * ^(sin(6*pi*x[1]),6.0)\n",
    "  g = evalG(x)\n",
    "  h = evalH(f1, g)\n",
    "  f2 = g * h\n",
    " \n",
    "  solution.objectives = [f1, f2]\n",
    "\n",
    "  return solution\n",
    "end\n",
    "```"
   ]
  },
  {
   "cell_type": "markdown",
   "id": "3201b285",
   "metadata": {},
   "source": [
    "## Binary problems\n",
    "The approaches to define binary problems are similar to the aforementioned ones for continuous problems. We show two examples that use the first method.\n",
    "\n",
    "The classical OneMax problem (maximizing the number of ones in a binary string) can be implemented in this way:"
   ]
  },
  {
   "cell_type": "code",
   "execution_count": 5,
   "id": "179d04cb",
   "metadata": {},
   "outputs": [],
   "source": [
    "using MetaJul\n",
    "\n",
    "numberOfBits = 512\n",
    "problem = BinaryProblem(numberOfBits, \"OneMax\")\n",
    "\n",
    "f = x -> -1.0 * length([i for i in x.bits if i])\n",
    "\n",
    "addObjective(problem, f) ;"
   ]
  },
  {
   "cell_type": "markdown",
   "id": "176a4063",
   "metadata": {},
   "source": [
    "A random solution for the problem can be obtained by calling the `createSolution()` function:"
   ]
  },
  {
   "cell_type": "code",
   "execution_count": 6,
   "id": "dde712b2",
   "metadata": {},
   "outputs": [
    {
     "name": "stdout",
     "output_type": "stream",
     "text": [
      "MetaJul.BitVector(Bool[1, 0, 1, 0, 1, 0, 0, 1, 1, 1, 1, 0, 0, 0, 0, 0, 1, 0, 0, 0, 0, 1, 1, 0, 1, 0, 0, 0, 1, 1, 1, 0, 0, 0, 0, 1, 0, 1, 1, 0, 0, 0, 1, 0, 1, 0, 1, 0, 1, 1, 0, 0, 1, 0, 0, 0, 1, 1, 1, 0, 1, 0, 1, 0, 1, 0, 0, 1, 0, 0, 1, 1, 1, 0, 1, 0, 0, 0, 1, 0, 1, 0, 0, 0, 1, 1, 1, 0, 0, 1, 0, 1, 1, 0, 1, 1, 0, 0, 1, 0, 1, 0, 0, 0, 1, 1, 1, 0, 1, 1, 1, 0, 1, 0, 0, 1, 0, 0, 0, 1, 0, 0, 1, 0, 1, 1, 1, 0, 1, 0, 1, 1, 1, 0, 0, 0, 1, 1, 0, 1, 1, 0, 0, 0, 1, 1, 1, 0, 1, 1, 0, 0, 1, 1, 1, 1, 0, 0, 0, 1, 0, 1, 1, 0, 1, 1, 0, 1, 1, 1, 1, 1, 0, 0, 0, 0, 0, 0, 0, 1, 0, 1, 1, 1, 1, 0, 0, 1, 1, 0, 1, 1, 1, 0, 1, 0, 1, 1, 0, 0, 1, 1, 0, 0, 0, 0, 1, 0, 0, 1, 0, 1, 1, 1, 0, 0, 1, 1, 0, 1, 1, 1, 0, 0, 0, 0, 1, 0, 1, 0, 0, 1, 1, 1, 1, 1, 1, 1, 1, 1, 0, 1, 1, 1, 1, 1, 1, 1, 1, 1, 1, 0, 0, 1, 0, 1, 1, 1, 0, 0, 0, 1, 1, 1, 0, 1, 1, 0, 0, 1, 1, 1, 0, 0, 1, 0, 0, 1, 0, 1, 0, 0, 0, 1, 0, 0, 1, 1, 0, 0, 1, 0, 1, 1, 1, 0, 0, 1, 0, 0, 0, 0, 0, 0, 1, 1, 0, 1, 1, 0, 1, 0, 0, 0, 1, 0, 0, 1, 1, 1, 0, 1, 0, 0, 1, 1, 0, 0, 0, 0, 0, 1, 0, 0, 1, 1, 1, 1, 1, 1, 1, 0, 1, 0, 1, 1, 1, 1, 1, 0, 0, 1, 0, 1, 0, 0, 1, 1, 0, 1, 0, 1, 1, 1, 1, 0, 0, 0, 0, 1, 1, 1, 1, 1, 0, 1, 0, 0, 1, 1, 0, 0, 1, 0, 0, 0, 1, 0, 1, 1, 0, 1, 0, 0, 1, 0, 1, 1, 1, 1, 0, 1, 0, 1, 0, 0, 1, 1, 1, 1, 1, 1, 0, 1, 1, 1, 1, 0, 0, 0, 1, 0, 1, 0, 1, 1, 0, 1, 1, 0, 0, 1, 1, 0, 0, 0, 1, 0, 0, 1, 0, 0, 1, 1, 1, 0, 1, 0, 0, 0, 1, 0, 0, 0, 0, 1, 1, 0, 1, 0, 1, 0, 1, 1, 1, 1, 0, 0, 1, 0, 1, 0, 1, 1, 0, 1, 0, 0, 0, 1, 0, 1, 0, 0, 0, 0, 0, 1, 0, 1, 0, 0, 0, 0, 1, 1, 1, 0, 1, 1, 0, 0, 1, 0, 1, 1, 0, 0, 1, 1, 0, 0])\n",
      "[262.0]\n"
     ]
    }
   ],
   "source": [
    "binarySolution = createSolution(problem)\n",
    "evaluate(binarySolution, problem)\n",
    "\n",
    "println(binarySolution.variables) \n",
    "println(-1.0 * binarySolution.objectives) ;"
   ]
  },
  {
   "cell_type": "markdown",
   "id": "7bc20693",
   "metadata": {},
   "source": [
    "A bi-objective variant intented to optimize the number of ones and the number of zeroes can be implemented in similar way (we encapsulate the problem definition in a function):"
   ]
  },
  {
   "cell_type": "code",
   "execution_count": 7,
   "id": "ca432f0d",
   "metadata": {},
   "outputs": [],
   "source": [
    "function oneZeroMax(numberOfBits::Int) \n",
    "  problem = BinaryProblem(numberOfBits, \"OneZeroMax\")\n",
    "\n",
    "  f = x -> length([i for i in x.bits if i])\n",
    "  g = y -> length([j for j in y.bits if !j])\n",
    "\n",
    "  addObjective(problem, f)\n",
    "  addObjective(problem, g)\n",
    "\n",
    "  return problem\n",
    "end ;\n"
   ]
  },
  {
   "cell_type": "code",
   "execution_count": 8,
   "id": "a4d69961",
   "metadata": {},
   "outputs": [],
   "source": []
  }
 ],
 "metadata": {
  "kernelspec": {
   "display_name": "Julia 1.11.0",
   "language": "julia",
   "name": "julia-1.11"
  },
  "language_info": {
   "file_extension": ".jl",
   "mimetype": "application/julia",
   "name": "julia",
   "version": "1.11.0"
  }
 },
 "nbformat": 4,
 "nbformat_minor": 5
}
