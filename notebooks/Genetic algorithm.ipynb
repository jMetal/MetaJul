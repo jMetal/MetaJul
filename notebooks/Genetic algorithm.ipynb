{
 "cells": [
  {
   "cell_type": "markdown",
   "id": "94d16fd5",
   "metadata": {},
   "source": [
    "# Examples of configuring and running a genetic algorithm\n",
    "\n",
    "This notebook includes examples where the a single objective genetic algorithm (GA) is used to solve continuous and binary multi-objective problems. \n",
    "\n",
    "There are two basic ways of using a GA with MetaJul. The first one is using the `EvolutionaryAlgorithm` struct, which must be populated with specific components characterizing the GA, and the second one is based on the `GeneticAlgorithm` struct, which constitutes a simpler way to obtain a default configured GA but it does not offer the wide range of alternatives for setting up GA variants as the first option. We include in this notebook examples of both schemes in the notebook, starting by the second approach."
   ]
  },
  {
   "cell_type": "code",
   "execution_count": 36,
   "id": "ebc4e903",
   "metadata": {},
   "outputs": [],
   "source": [
    "using MetaJul"
   ]
  },
  {
   "cell_type": "markdown",
   "id": "0d4dac18",
   "metadata": {},
   "source": [
    "## Configure a genetic algorithm to solve a continuous problem (Sphere) using default settings\n",
    "The first step is to instantiate the problem to be solve. In this case, we choose the Sphere continuous problem."
   ]
  },
  {
   "cell_type": "code",
   "execution_count": 37,
   "id": "f45c2dcd",
   "metadata": {},
   "outputs": [],
   "source": [
    "problem = sphere(30) ;"
   ]
  },
  {
   "cell_type": "markdown",
   "id": "615b7de1",
   "metadata": {},
   "source": [
    "We define the following default settings for a GA aimed at solving continuous problems:\n",
    "``` Julia\n",
    "populationSize = 100\n",
    "mutation = PolynomialMutation(probability = 1.0/numberOfVariables(problem), distributionIndex = 20.0, bounds = problem.bounds)\n",
    "crossover = SBXCrossover(probability = 1.0, distributionIndes = 20.0, bounds = problem.bounds)\n",
    "termination = TerminationByEvaluations(100000)\n",
    "```\n",
    "\n",
    "To optimize the problem, we need to call the GeneticAlgorithm function:"
   ]
  },
  {
   "cell_type": "code",
   "execution_count": 38,
   "id": "98dd62a7",
   "metadata": {},
   "outputs": [],
   "source": [
    "solver= GeneticAlgorithm(problem);"
   ]
  },
  {
   "cell_type": "markdown",
   "id": "91d68298",
   "metadata": {},
   "source": [
    "Then we can run the algorithm and show the result:"
   ]
  },
  {
   "cell_type": "code",
   "execution_count": 39,
   "id": "87a8b2a1",
   "metadata": {},
   "outputs": [
    {
     "name": "stdout",
     "output_type": "stream",
     "text": [
      "Computing time: 928 milliseconds\n"
     ]
    }
   ],
   "source": [
    "optimize!(solver)\n",
    "\n",
    "println(\"Computing time: \", computingTime(solver))"
   ]
  },
  {
   "cell_type": "code",
   "execution_count": 40,
   "id": "25f035d4",
   "metadata": {},
   "outputs": [
    {
     "name": "stdout",
     "output_type": "stream",
     "text": [
      "Algorithm: GeneticAlgorithm\n",
      "Best solution found: [-0.024001261158548063, -0.004346150475693259, -0.009345777423099257, -0.010904913260575936, -0.01633501674972832, -0.015138131995216452, -0.0031944179009729167, -0.02023648658383347, -0.020879925670675217, -0.0008605380709557631, -0.014487652244989277, -0.008193631156637248, -0.017246016637621892, -0.015373193955542661, -0.012183869478684394, -0.019268382505203064, -0.004813875937770598, -0.010920246139661745, -0.012772267687111039, -0.017051366464012747, -0.014648225511662965, -0.02422141486356727, -0.01586545481135366, -0.020196785661727324, -0.02033199675333989, -0.014216951745477529, -0.011831542147966707, -0.014018786696160222, -0.010539717154059366, -0.015973175810942757]\n",
      "Fitness: 0.00685956957615499\n",
      "Computing time: 928 milliseconds\n"
     ]
    }
   ],
   "source": [
    "println(\"Algorithm: \", name(solver))\n",
    "\n",
    "println(\"Best solution found: \", foundSolution(solver).variables)\n",
    "println(\"Fitness: \", -1.0foundSolution(solver).objectives[1])\n",
    "println(\"Computing time: \", computingTime(solver))"
   ]
  },
  {
   "cell_type": "markdown",
   "id": "1b6c359f",
   "metadata": {},
   "source": [
    "## Configure a genetic algorithm to solve a continuous problem (Kursawe) using specific settings\n",
    "If we prefer to explicitly set the settings, we can do it in this way:"
   ]
  },
  {
   "cell_type": "code",
   "execution_count": 41,
   "id": "bef9eff3",
   "metadata": {},
   "outputs": [],
   "source": [
    "mutation = UniformMutation(probability = 1.0/numberOfVariables(problem), perturbation = 0.5, bounds = problem.bounds)\n",
    "crossover = BLXAlphaCrossover(probability = 1.0, alpha = 0.5, bounds = problem.bounds)\n",
    "termination = TerminationByEvaluations(200000)\n",
    "\n",
    "ga = GeneticAlgorithm(problem, populationSize=50,termination=termination, mutation=mutation, crossover=crossover) ;"
   ]
  },
  {
   "cell_type": "markdown",
   "id": "479b963e",
   "metadata": {},
   "source": [
    "We run the GA with the new settings and show the results."
   ]
  },
  {
   "cell_type": "code",
   "execution_count": 42,
   "id": "d5445a96",
   "metadata": {},
   "outputs": [
    {
     "name": "stdout",
     "output_type": "stream",
     "text": [
      "Best solution found: [9.373567922728299e-9, 2.3155185576072718e-6, 2.6295611200143944e-8, -0.00010569409753215303, 4.441480837835947e-11, 1.5033997573629766e-5, -5.6448185459548445e-6, 2.9500377219560906e-8, -6.249852454121069e-5, -1.2562780029207578e-6, -4.4892441915886406e-7, 1.7133776497366653e-5, -2.1918303106601414e-7, -2.8388952225433964e-5, -0.0002529933917141696, 3.8126810611743196e-13, -0.00013220292514371968, 5.1103345736046734e-5, -2.50429870277605e-9, -3.837442283352885e-5, 1.8147091052546094e-11, -7.499237232612495e-10, -8.275946805862354e-7, 6.6470125956803836e-6, 5.72268808572069e-6, 6.873466160371126e-8, 1.9120298956587373e-6, -1.0525411851966153e-5, 9.290975582563079e-6, 2.1758941102074026e-9]\n",
      "Fitness: 1.022876847779107e-7\n",
      "Computing time: 740 milliseconds\n"
     ]
    }
   ],
   "source": [
    "optimize!(ga)\n",
    "\n",
    "println(\"Best solution found: \", foundSolution(ga).variables)\n",
    "println(\"Fitness: \", foundSolution(ga).objectives[1])\n",
    "println(\"Computing time: \", computingTime(ga))"
   ]
  },
  {
   "cell_type": "markdown",
   "id": "35cd566e",
   "metadata": {},
   "source": [
    "## Configure a genetic algorithm to solve a binary problem using default setings (OneMax)"
   ]
  },
  {
   "cell_type": "code",
   "execution_count": 43,
   "id": "c3ad38df",
   "metadata": {},
   "outputs": [],
   "source": [
    "# The oneMax function consists of miximizing the number of ones in a binary string\n",
    "numberOfBits = 512\n",
    "problem = oneMax(numberOfBits) ;"
   ]
  },
  {
   "cell_type": "markdown",
   "id": "9922b97e",
   "metadata": {},
   "source": [
    "The default settings for a genetic algorithm to solve binary problems in MetaJul are:\n",
    "``` Julia\n",
    "populationSize = 100, \n",
    "termination = TerminationByEvaluations(25000),\n",
    "mutation = BitFlipMutation(probability = 1.0 / problem.numberOfBits),\n",
    "crossover = SinglePointCrossover(probability = 1.0)\n",
    "```\n",
    "\n",
    "Consequently, the steps for creating, running the algorithm and showing the result are:"
   ]
  },
  {
   "cell_type": "code",
   "execution_count": 44,
   "id": "686a628d",
   "metadata": {},
   "outputs": [],
   "source": [
    "solver = GeneticAlgorithm(problem) ;"
   ]
  },
  {
   "cell_type": "code",
   "execution_count": 45,
   "id": "9372c9fc",
   "metadata": {},
   "outputs": [],
   "source": [
    "optimize!(solver) ;"
   ]
  },
  {
   "cell_type": "code",
   "execution_count": 46,
   "id": "1dd98476",
   "metadata": {},
   "outputs": [
    {
     "name": "stdout",
     "output_type": "stream",
     "text": [
      "Best solution found: MetaJul.BitVector(Bool[1, 1, 1, 1, 1, 1, 1, 1, 1, 1, 1, 1, 1, 1, 1, 1, 1, 1, 1, 1, 1, 1, 1, 1, 1, 1, 1, 1, 1, 1, 1, 1, 1, 1, 1, 1, 1, 1, 1, 1, 1, 1, 1, 1, 1, 1, 1, 1, 1, 1, 1, 1, 1, 1, 1, 1, 1, 1, 1, 1, 1, 1, 1, 1, 1, 1, 1, 1, 1, 1, 1, 1, 1, 1, 1, 1, 1, 1, 1, 1, 1, 1, 1, 1, 1, 1, 1, 1, 1, 1, 1, 1, 1, 1, 1, 1, 1, 1, 1, 1, 1, 1, 1, 1, 1, 1, 1, 1, 1, 1, 1, 1, 1, 1, 1, 1, 1, 1, 1, 1, 1, 1, 1, 1, 1, 1, 1, 1, 1, 1, 1, 1, 1, 1, 1, 1, 1, 1, 1, 1, 1, 1, 1, 1, 1, 1, 1, 1, 1, 1, 1, 1, 1, 1, 1, 1, 1, 1, 1, 1, 1, 1, 1, 1, 1, 1, 1, 1, 1, 1, 1, 1, 1, 1, 1, 1, 1, 1, 1, 1, 1, 1, 1, 1, 1, 1, 1, 1, 1, 1, 1, 1, 1, 1, 1, 1, 1, 1, 1, 1, 1, 1, 1, 1, 1, 1, 1, 1, 1, 1, 1, 1, 1, 1, 1, 1, 1, 1, 1, 1, 1, 1, 1, 1, 1, 1, 1, 1, 1, 1, 1, 1, 1, 1, 1, 1, 1, 1, 1, 1, 1, 1, 1, 1, 1, 1, 1, 1, 1, 1, 1, 1, 1, 1, 1, 1, 1, 1, 1, 1, 1, 1, 1, 1, 1, 1, 1, 1, 1, 1, 1, 1, 1, 1, 1, 1, 1, 1, 1, 1, 1, 1, 1, 1, 1, 1, 1, 1, 1, 1, 1, 1, 1, 1, 1, 1, 1, 1, 1, 1, 1, 1, 1, 1, 1, 1, 1, 1, 1, 1, 1, 1, 1, 1, 1, 1, 1, 1, 1, 1, 1, 1, 1, 1, 1, 1, 1, 1, 1, 1, 1, 1, 1, 1, 1, 1, 1, 1, 1, 1, 1, 1, 1, 1, 1, 1, 1, 1, 1, 1, 1, 1, 1, 1, 1, 1, 1, 1, 1, 1, 1, 1, 1, 1, 1, 1, 1, 1, 1, 1, 1, 1, 1, 1, 1, 1, 1, 1, 1, 1, 1, 1, 1, 1, 1, 1, 1, 1, 1, 1, 1, 1, 1, 1, 1, 1, 1, 1, 1, 1, 1, 1, 1, 1, 1, 1, 1, 1, 1, 1, 1, 1, 1, 1, 1, 1, 1, 1, 1, 1, 1, 1, 1, 1, 1, 1, 1, 1, 1, 1, 1, 1, 1, 1, 1, 1, 1, 1, 1, 1, 1, 1, 1, 1, 1, 1, 1, 1, 1, 1, 1, 1, 1, 1, 1, 1, 1, 1, 1, 1, 1, 1, 1, 1, 1, 1, 1, 1, 1, 1, 1, 1, 1, 1, 1, 1, 1, 1, 1, 1, 1, 1, 1, 1, 1, 1, 1, 1, 1, 1, 1, 1, 1, 1, 1, 1, 1, 1, 1, 1, 1, 1, 1, 1, 1, 1, 1, 1, 1, 1, 1, 1])\n",
      "Fitness: -512.0\n",
      "Computing time: 157 milliseconds\n"
     ]
    }
   ],
   "source": [
    "println(\"Best solution found: \", foundSolution(solver).variables)\n",
    "println(\"Fitness: \", foundSolution(solver).objectives[1])\n",
    "println(\"Computing time: \", computingTime(solver))"
   ]
  },
  {
   "cell_type": "markdown",
   "id": "8a369f26",
   "metadata": {},
   "source": [
    "## Configure a genetic algorithm to solve a binary problem using specific setings (OneMax)\n",
    "We give now an example of configuring a genetic algorithm with specific settings:"
   ]
  },
  {
   "cell_type": "code",
   "execution_count": 47,
   "id": "afdace3a",
   "metadata": {},
   "outputs": [],
   "source": [
    "termination = TerminationByEvaluations(10000)\n",
    "mutation = BitFlipMutation(probability = 1.0 / problem.numberOfBits)\n",
    "crossover = SinglePointCrossover(probability = 0.9)\n",
    "\n",
    "solver = GeneticAlgorithm(problem, populationSize=50,termination=termination, mutation=mutation, crossover=crossover) ;"
   ]
  },
  {
   "cell_type": "markdown",
   "id": "9a6ade32",
   "metadata": {},
   "source": []
  },
  {
   "cell_type": "code",
   "execution_count": 48,
   "id": "6303597b",
   "metadata": {},
   "outputs": [],
   "source": [
    "optimize!(solver) ;"
   ]
  },
  {
   "cell_type": "code",
   "execution_count": 49,
   "id": "46521840",
   "metadata": {},
   "outputs": [
    {
     "name": "stdout",
     "output_type": "stream",
     "text": [
      "Best solution found: MetaJul.BitVector(Bool[1, 1, 1, 1, 1, 1, 1, 1, 1, 1, 1, 1, 1, 1, 1, 1, 1, 1, 1, 1, 1, 1, 1, 1, 1, 1, 1, 1, 1, 1, 1, 1, 1, 1, 1, 1, 1, 1, 1, 1, 1, 1, 1, 1, 1, 1, 1, 1, 1, 1, 1, 1, 1, 1, 1, 1, 1, 0, 1, 1, 1, 1, 1, 1, 1, 1, 1, 1, 1, 1, 1, 1, 1, 1, 1, 1, 1, 1, 1, 1, 1, 1, 1, 1, 1, 0, 1, 1, 1, 1, 1, 1, 1, 0, 1, 0, 1, 1, 1, 1, 1, 1, 1, 1, 1, 1, 1, 1, 1, 1, 1, 1, 1, 1, 1, 1, 1, 1, 1, 0, 1, 1, 1, 1, 1, 1, 1, 1, 1, 1, 1, 1, 1, 1, 1, 1, 1, 1, 1, 1, 1, 1, 1, 1, 1, 0, 1, 1, 1, 1, 1, 1, 1, 1, 1, 1, 1, 1, 1, 1, 0, 1, 1, 1, 1, 1, 1, 1, 1, 0, 1, 1, 1, 1, 1, 1, 1, 1, 1, 1, 1, 1, 1, 1, 1, 1, 1, 1, 1, 0, 1, 1, 1, 1, 1, 1, 1, 1, 0, 1, 1, 1, 1, 1, 1, 1, 1, 1, 0, 1, 1, 1, 1, 1, 1, 1, 1, 1, 1, 1, 1, 1, 1, 1, 1, 1, 1, 1, 1, 1, 1, 1, 1, 1, 1, 1, 1, 1, 1, 1, 1, 1, 1, 1, 1, 1, 1, 1, 1, 1, 1, 1, 1, 0, 1, 1, 1, 1, 1, 1, 1, 1, 1, 1, 1, 1, 1, 1, 1, 1, 1, 1, 1, 1, 1, 1, 1, 1, 1, 1, 1, 1, 1, 1, 1, 1, 1, 1, 1, 1, 1, 1, 1, 1, 1, 1, 1, 0, 1, 1, 1, 1, 1, 1, 1, 1, 0, 1, 1, 1, 1, 1, 1, 1, 1, 1, 1, 1, 1, 1, 1, 1, 1, 1, 1, 0, 1, 1, 1, 1, 1, 1, 1, 1, 1, 1, 1, 1, 1, 1, 1, 1, 1, 1, 1, 1, 1, 1, 1, 1, 0, 1, 1, 1, 1, 1, 1, 1, 1, 1, 0, 1, 1, 1, 0, 1, 1, 1, 1, 1, 1, 1, 1, 1, 1, 0, 1, 1, 0, 1, 1, 1, 1, 1, 1, 1, 1, 1, 1, 1, 1, 1, 1, 1, 1, 1, 1, 1, 1, 1, 1, 1, 1, 1, 1, 1, 1, 1, 1, 1, 0, 1, 1, 1, 1, 1, 1, 1, 1, 1, 1, 1, 1, 0, 1, 1, 1, 1, 1, 1, 1, 1, 1, 1, 1, 1, 1, 1, 1, 1, 1, 1, 1, 1, 1, 1, 1, 1, 1, 1, 1, 1, 1, 1, 1, 1, 1, 1, 1, 1, 1, 1, 1, 1, 1, 1, 1, 1, 1, 1, 1, 1, 1, 1, 1, 1, 1, 1, 1, 1, 1, 1, 1, 1, 1, 1, 1, 1, 1, 1, 1, 1, 1, 1, 1, 1, 1, 1, 1, 1, 1, 1, 1, 1, 1, 1, 1, 0, 1, 1, 1, 1])\n",
      "Fitness: -489.0\n",
      "Computing time: 62 milliseconds\n"
     ]
    }
   ],
   "source": [
    "println(\"Best solution found: \", foundSolution(solver).variables)\n",
    "println(\"Fitness: \", -1.0foundSolution(solver).objectives[1])\n",
    "println(\"Computing time: \", computingTime(solver))"
   ]
  },
  {
   "cell_type": "markdown",
   "id": "c4f0a747",
   "metadata": {},
   "source": [
    "## Configure a genetic algorithm with by using the `EvolutionaryComputation` struct\n",
    "\n",
    "The definition of the `GeneticAlgorithm` struct contains a field called `solver` that is of type `EvolutionaryAlgorithm`, which is an approach that can be adopted to simulate, to some extent, object-orientation in Julia. However, we can directly use the `EvolutionaryAlgorithm` struct to create a genetic algorithm. This scheme which requires to create all the components characterizing the GA, but it has the advantage of allowing a higher flexibility grade. "
   ]
  },
  {
   "cell_type": "code",
   "execution_count": 83,
   "id": "7fde4f75",
   "metadata": {},
   "outputs": [],
   "source": [
    "problem = sphere(30) ;"
   ]
  },
  {
   "cell_type": "markdown",
   "id": "37957d52",
   "metadata": {},
   "source": [
    "### Step 1: creating the evolutionary algorithm struct"
   ]
  },
  {
   "cell_type": "code",
   "execution_count": 84,
   "id": "4a9ea98d",
   "metadata": {},
   "outputs": [],
   "source": [
    "ga = EvolutionaryAlgorithm()\n",
    "ga.name = \"Genetic algorithm\" ;"
   ]
  },
  {
   "cell_type": "markdown",
   "id": "11cbc2c6",
   "metadata": {},
   "source": [
    "### Step 2: specifying the population size and offspring population sizes\n",
    "A generational GA has a populationn and offspring population with the same size.; a steady-state version can be instatiated by using an offspring population size of 1."
   ]
  },
  {
   "cell_type": "code",
   "execution_count": 85,
   "id": "23d552c4",
   "metadata": {},
   "outputs": [],
   "source": [
    "populationSize = 100\n",
    "offspringPopulationSize = 100 ; # Use 1 for a steady-state version."
   ]
  },
  {
   "cell_type": "markdown",
   "id": "0181d60a",
   "metadata": {},
   "source": [
    "### Step 3: creating the `SolutionsCreation`, `Evaluation`, and `Termination` components:"
   ]
  },
  {
   "cell_type": "code",
   "execution_count": 96,
   "id": "1ada7a99",
   "metadata": {},
   "outputs": [],
   "source": [
    "ga.solutionsCreation = DefaultSolutionsCreation(problem, populationSize)\n",
    "ga.evaluation = SequentialEvaluation(problem)\n",
    "ga.termination = TerminationByEvaluations(500000) ;"
   ]
  },
  {
   "cell_type": "markdown",
   "id": "70328550",
   "metadata": {},
   "source": [
    "### Step 4: creating the `Variation` components from the crossover and mutation operators\n",
    "The `Variation` components requiere to know the offspring population size to compute the matting pool size (i.e., the number of parents that the `Selection` component must produce), which depends directly on the n-arity of the crossover operator."
   ]
  },
  {
   "cell_type": "code",
   "execution_count": 97,
   "id": "b9c49e6a",
   "metadata": {},
   "outputs": [],
   "source": [
    "mutation = PolynomialMutation(probability = 1.0 / numberOfVariables(problem), distributionIndex = 20.0, bounds = problem.bounds)\n",
    "crossover = SBXCrossover(probability = 0.9, distributionIndex = 20.0, bounds = problem.bounds)\n",
    "\n",
    "ga.variation = CrossoverAndMutationVariation(offspringPopulationSize, crossover, mutation) ;"
   ]
  },
  {
   "cell_type": "markdown",
   "id": "f568e773",
   "metadata": {},
   "source": [
    "### Step 5: creating the `Selection` component\n",
    "We choose a binary tournament:"
   ]
  },
  {
   "cell_type": "code",
   "execution_count": 98,
   "id": "a7656c47",
   "metadata": {},
   "outputs": [],
   "source": [
    "ga.selection = BinaryTournamentSelection(ga.variation.matingPoolSize, IthObjectiveComparator(1));"
   ]
  },
  {
   "cell_type": "markdown",
   "id": "eb455146",
   "metadata": {},
   "source": [
    "### Step 6: creating the `Replacement` component \n",
    "An elitist GA is defined by using a $\\mu+\\lambda$ replacement:"
   ]
  },
  {
   "cell_type": "code",
   "execution_count": 99,
   "id": "ce100f0e",
   "metadata": {},
   "outputs": [],
   "source": [
    "ga.replacement = MuPlusLambdaReplacement(IthObjectiveComparator(1)) ;"
   ]
  },
  {
   "cell_type": "markdown",
   "id": "c27a4055",
   "metadata": {},
   "source": [
    "### Step 7: running the algorithm \n",
    "Once the evolutionary algorithm struct is filled with the GA components, the resulting algorithm can be executed:"
   ]
  },
  {
   "cell_type": "code",
   "execution_count": 100,
   "id": "9731d483",
   "metadata": {},
   "outputs": [],
   "source": [
    "optimize!(ga);"
   ]
  },
  {
   "cell_type": "code",
   "execution_count": 101,
   "id": "1e7fed23",
   "metadata": {},
   "outputs": [
    {
     "name": "stdout",
     "output_type": "stream",
     "text": [
      "Best solution found: [-1.2987245077251502e-5, 1.4537230011153732e-5, -1.1595425790259425e-7, 3.687280741762498e-10, -2.0478122683385006e-5, 0.00014002674555256615, -0.000147793848048603, -5.012778685302987e-5, -8.196575798770242e-7, -1.3163838656737661e-5, -7.418730031429832e-5, -6.092298678986928e-12, -5.748121630347099e-6, -5.572808127460691e-5, -0.0005654080224998196, -2.804268722393073e-5, -1.915675298540043e-8, 2.6272717416976908e-8, -1.3809867151891487e-5, -6.085823971723066e-9, -6.845547501369917e-5, -2.293850680860698e-8, -2.2703049280780516e-5, -6.19054409808609e-8, -0.0001862139954561089, -3.377045441180121e-5, -3.272435347491911e-7, -0.00044258382650262223, 3.294493280473135e-5, 3.782683313008564e-11]\n",
      "Fitness: -6.122259839764035e-7\n",
      "Computing time: 2431 milliseconds\n"
     ]
    }
   ],
   "source": [
    "println(\"Best solution found: \", foundSolutions(ga)[1].variables)\n",
    "println(\"Fitness: \", foundSolutions(ga)[1].objectives[1])\n",
    "println(\"Computing time: \", computingTime(ga))"
   ]
  },
  {
   "cell_type": "code",
   "execution_count": null,
   "id": "dd9eab30",
   "metadata": {},
   "outputs": [],
   "source": []
  },
  {
   "cell_type": "code",
   "execution_count": null,
   "id": "e745ec09",
   "metadata": {},
   "outputs": [],
   "source": []
  }
 ],
 "metadata": {
  "kernelspec": {
   "display_name": "Julia 1.10.4",
   "language": "julia",
   "name": "julia-1.10"
  },
  "language_info": {
   "file_extension": ".jl",
   "mimetype": "application/julia",
   "name": "julia",
   "version": "1.10.4"
  }
 },
 "nbformat": 4,
 "nbformat_minor": 5
}
