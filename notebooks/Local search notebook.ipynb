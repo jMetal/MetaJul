{
 "cells": [
  {
   "cell_type": "markdown",
   "id": "503a7802",
   "metadata": {},
   "source": [
    "# Local search examples\n",
    "This notebook contains examples of how to configure and use the local search algorithm included in MetaJul. "
   ]
  },
  {
   "cell_type": "code",
   "execution_count": 1,
   "id": "de4a0af0",
   "metadata": {},
   "outputs": [],
   "source": [
    "using MetaJul"
   ]
  },
  {
   "cell_type": "markdown",
   "id": "a31bb1d9",
   "metadata": {},
   "source": [
    "## Local search components"
   ]
  },
  {
   "cell_type": "markdown",
   "id": "32a8c9df",
   "metadata": {},
   "source": [
    "The local search implemented in Julia is based on the following struct (we have omitted other non-relevant fields):\n",
    "\n",
    "``` Julia\n",
    "mutable struct LocalSearch <: Algorithm\n",
    "  startingSolution::Solution\n",
    "  problem::Problem\n",
    "  termination::Termination\n",
    "  mutation::MutationOperator\n",
    "end\n",
    "```\n",
    "\n",
    "The components of the structure are:\n",
    "\n",
    "* `startingSolution`: starting point of the local search. It is assumed that this solution is already evaluated.\n",
    "* `problem`: problem to optimize. Currently, the local search can be applied to float (continuous) and binary problems.\n",
    "* `mutation`: operator used to simulate the concept of neighborhood by mutating the current solution.\n",
    "* `termination`: termination condition of the algorithm. The choices are by computing time or by performing a pre-defined number of iterations, but other condicitions could be incorporated.\n",
    "\n"
   ]
  },
  {
   "cell_type": "markdown",
   "id": "137e3d40",
   "metadata": {},
   "source": [
    "## Example: binary problem with default settings\n",
    "The default settings is to terminate after 10000 iterations and the mutation operator is bit blip for binary problems"
   ]
  },
  {
   "cell_type": "code",
   "execution_count": 2,
   "id": "243740cd",
   "metadata": {},
   "outputs": [],
   "source": [
    "# Step 1. Create the problem\n",
    "problem = oneMax(512) ;"
   ]
  },
  {
   "cell_type": "code",
   "execution_count": 3,
   "id": "68d55ed5",
   "metadata": {},
   "outputs": [],
   "source": [
    "# Step 2. Create a solution and evaluate it\n",
    "startingSolution = createSolution(problem)\n",
    "evaluate(startingSolution, problem) ;"
   ]
  },
  {
   "cell_type": "code",
   "execution_count": 4,
   "id": "5a4a4307",
   "metadata": {},
   "outputs": [],
   "source": [
    "# Step 3. Create a local search instance with default settings for binary problems\n",
    "solver = LocalSearch(startingSolution, problem) ;"
   ]
  },
  {
   "cell_type": "code",
   "execution_count": 21,
   "id": "02a9b748",
   "metadata": {},
   "outputs": [],
   "source": [
    "# Step 4. Run the algorithm\n",
    "optimize!(solver) ;"
   ]
  },
  {
   "cell_type": "code",
   "execution_count": 22,
   "id": "d6a797c8",
   "metadata": {},
   "outputs": [
    {
     "name": "stdout",
     "output_type": "stream",
     "text": [
      "Fitness: -1.3436415979749063e-6\n"
     ]
    }
   ],
   "source": [
    "# Step 5. Print output information\n",
    "foundSolution = solver.currentSolution\n",
    "println(\"Fitness: \", -1.0 * foundSolution.objectives[1]) # OneMax is a maximization problem"
   ]
  },
  {
   "cell_type": "code",
   "execution_count": 23,
   "id": "df8ef22e",
   "metadata": {},
   "outputs": [
    {
     "name": "stdout",
     "output_type": "stream",
     "text": [
      "Local search results: [-0.0005518202680868667, -0.00011511787567275444, 0.00013411045213318484, 5.626415706061483e-6, 0.00013683207899573002, -5.260060689432633e-5, 9.066753623943047e-6, -7.819922939861224e-5, 6.104174494309111e-5, -0.00017713293168686306, -4.0892850676210735e-6, -4.8739333046998734e-5, -0.00025033231671556244, 0.00012127910521975149, -0.00034185627872884705, 0.00030946332131803755, -2.2226747495524002e-5, 2.449751635180686e-5, 0.0001447858277450198, -6.117129376925767e-7, 3.5780944989294294e-5, -0.0004762914600774937, -1.7626628247946474e-5, -4.072268352306452e-5, -4.103010932177131e-6, -0.00033195892486931333, -0.0003378714644082792, -0.00011919127782383798, -0.0004023167610123779, -8.972241162197303e-6]\n"
     ]
    }
   ],
   "source": [
    "println(\"Local search results: \", foundSolution.variables) ;"
   ]
  },
  {
   "cell_type": "code",
   "execution_count": 24,
   "id": "a4908284",
   "metadata": {},
   "outputs": [
    {
     "name": "stdout",
     "output_type": "stream",
     "text": [
      "Computing time: 314 milliseconds\n"
     ]
    }
   ],
   "source": [
    "println(\"Computing time: \", computingTime(solver))"
   ]
  },
  {
   "cell_type": "markdown",
   "id": "83a84074",
   "metadata": {},
   "source": [
    "## Example: binary problem with specific settings"
   ]
  },
  {
   "cell_type": "code",
   "execution_count": 25,
   "id": "9712c0d8",
   "metadata": {},
   "outputs": [],
   "source": [
    "# Step 1. Create the problem and the initial solution\n",
    "problem = oneMax(512) \n",
    "\n",
    "startingSolution = createSolution(problem)\n",
    "evaluate(startingSolution, problem) ;"
   ]
  },
  {
   "cell_type": "code",
   "execution_count": 26,
   "id": "7835b433",
   "metadata": {},
   "outputs": [],
   "source": [
    "# Step 2. Define the local search parameters\n",
    "mutation = BitFlipMutation(probability = 1.0 / numberOfVariables(problem))\n",
    "termination = TerminationByIterations(5000) ;"
   ]
  },
  {
   "cell_type": "code",
   "execution_count": 27,
   "id": "74bccf6e",
   "metadata": {},
   "outputs": [],
   "source": [
    "# Step 3. Configure the local search\n",
    "solver = LocalSearch(\n",
    "    startingSolution, \n",
    "    problem, \n",
    "    termination = termination, \n",
    "    mutation = mutation) ;"
   ]
  },
  {
   "cell_type": "code",
   "execution_count": 37,
   "id": "7ec30900",
   "metadata": {},
   "outputs": [
    {
     "name": "stdout",
     "output_type": "stream",
     "text": [
      "Fitness: -1.00909193561665e-6\n",
      "Local search results: [1.80012930410256e-5, -8.767821625477179e-5, 0.00017616190157110356, 6.845056611337608e-5, -0.00017917727830768504, 0.00021956354359259356, 5.59736485886142e-5, -9.397673467270717e-5, 0.0001832123924949136, 2.342227036411515e-5, -0.00010896537093307845, 8.514178391721972e-5, -3.087876475665885e-5, -0.00046228483252686026, -5.001587735087298e-7, -7.741424092455595e-5, -2.390813967650951e-5, -0.00018102943316844478, -0.00011703149066938368, -2.4244893175373594e-5, -0.0003494983833488563, 9.021010637721982e-5, -7.351489680940126e-5, 1.7085387599813373e-5, 8.392614035773738e-5, -4.449359550184884e-5, 6.088281559291087e-6, -4.832352824102326e-5, 0.0006355617760558374, -1.573565383733433e-5]\n"
     ]
    }
   ],
   "source": [
    "# Step 4. Run the algorithm and print results\n",
    "optimize!(solver) ;\n",
    "foundSolution = solver.currentSolution\n",
    "println(\"Fitness: \", -1.0 * foundSolution.objectives[1]) # OneMax is a maximization problem\n",
    "println(\"Local search results: \", foundSolution.variables)"
   ]
  },
  {
   "cell_type": "markdown",
   "id": "44730595",
   "metadata": {},
   "source": [
    "## Example: continuous problem with default settings\n",
    "The default settings is to terminate after 100000 iterations and the mutation operator is polynomial mutation."
   ]
  },
  {
   "cell_type": "code",
   "execution_count": 38,
   "id": "c6b690bb",
   "metadata": {},
   "outputs": [],
   "source": [
    "# Step 1. Create the problem and the initial solution\n",
    "problem = sphere(20) \n",
    "\n",
    "startingSolution = createSolution(problem)\n",
    "evaluate(startingSolution, problem) ;"
   ]
  },
  {
   "cell_type": "code",
   "execution_count": 39,
   "id": "e8dd973e",
   "metadata": {},
   "outputs": [],
   "source": [
    "# Step 2. Create the algorithm\n",
    "solver = LocalSearch(startingSolution, problem) ;"
   ]
  },
  {
   "cell_type": "code",
   "execution_count": 46,
   "id": "da5acb31",
   "metadata": {},
   "outputs": [
    {
     "name": "stdout",
     "output_type": "stream",
     "text": [
      "Fitness: 9.422988132067361e-7\n",
      "Local search results: [4.995484124759031e-5, 0.00028271930921430766, -7.956867275699109e-5, 8.81517326365433e-5, -1.8810865678786648e-5, -0.00012819919245721234, 7.738888744823758e-5, -4.278566101190151e-6, 9.226843756282577e-5, -0.00011735449548383459, -3.306598146218809e-5, 7.621283731196193e-5, -7.63668641251547e-6, -0.0005530485018582221, -6.398632803911175e-5, -0.0001457910838641996, -0.00033804986430291395, 0.00011520759875743858, 0.00021344247100774094, -0.00037123022611390555, 9.566915555125899e-5, 5.045555910909716e-6, 8.312242899877198e-6, -7.807681478111395e-5, 4.925604437727715e-5, 8.798988471986346e-5, -0.00012396921120166882, 7.0132487167196e-5, -3.598280908012619e-6, 0.0003252475715743719]\n"
     ]
    }
   ],
   "source": [
    "# Step 3. Run the algorithm and print results\n",
    "optimize!(solver) \n",
    "\n",
    "foundSolution = solver.currentSolution\n",
    "println(\"Fitness: \", foundSolution.objectives[1])\n",
    "println(\"Local search results: \", foundSolution.variables) ;"
   ]
  },
  {
   "cell_type": "markdown",
   "id": "5b016218",
   "metadata": {},
   "source": [
    "## Example: binary problem with specific settings"
   ]
  },
  {
   "cell_type": "code",
   "execution_count": 47,
   "id": "7da8fa40",
   "metadata": {},
   "outputs": [],
   "source": [
    "# Step 1. Create the problem and the initial solution\n",
    "problem = sphere(30) \n",
    "\n",
    "startingSolution = createSolution(problem)\n",
    "evaluate(startingSolution, problem) ;"
   ]
  },
  {
   "cell_type": "code",
   "execution_count": 48,
   "id": "d497ce7b",
   "metadata": {},
   "outputs": [],
   "source": [
    "# Step 2. Define the local search parameters\n",
    "mutation = UniformMutation(probability = 1.0 / numberOfVariables(problem), perturbation = 0.5, bounds = problem.bounds)\n",
    "termination = TerminationByIterations(150000) ;"
   ]
  },
  {
   "cell_type": "code",
   "execution_count": 49,
   "id": "55c1166f",
   "metadata": {},
   "outputs": [],
   "source": [
    "# Step 3. Configure the local search\n",
    "solver = LocalSearch(\n",
    "    startingSolution, \n",
    "    problem, \n",
    "    termination = termination, \n",
    "    mutation = mutation) ;"
   ]
  },
  {
   "cell_type": "code",
   "execution_count": 52,
   "id": "2f2b66ef",
   "metadata": {},
   "outputs": [
    {
     "name": "stdout",
     "output_type": "stream",
     "text": [
      "Fitness: 1.0781187060622484e-6\n",
      "Local search results: [-0.0001839368508369521, -0.0005280460991309854, -0.0003475798041530087, 6.578659924916241e-5, 6.667793107290043e-5, 0.0003351938195940152, -0.00014545147347316822, 0.00016559044728781114, -3.178232922806945e-5, -0.0001654075602293137, -0.00038637381686346117, 0.00019572436417475414, -8.913090536299961e-6, 0.0002292799800328038, -0.0001370072758230534, 0.00010683212033846257, -8.077317519061822e-5, -5.9848770701032006e-5, -5.11201786316251e-5, 0.00012150517288572749, -0.00029091281642823485, -0.00018210978911908926, -5.76636361488414e-5, -3.849424363167042e-5, 5.952126024011406e-5, 5.680518573603077e-5, -0.00011056566285078118, -6.861589160916948e-5, -1.8073143389640833e-5, -4.503168979536065e-5]\n"
     ]
    }
   ],
   "source": [
    "# Step 4. Run the algorithm and print results\n",
    "optimize!(solver) \n",
    "\n",
    "foundSolution = solver.currentSolution\n",
    "println(\"Fitness: \", foundSolution.objectives[1])\n",
    "println(\"Local search results: \", foundSolution.variables) ;"
   ]
  },
  {
   "cell_type": "code",
   "execution_count": 53,
   "id": "819fb6b1",
   "metadata": {},
   "outputs": [],
   "source": []
  }
 ],
 "metadata": {
  "kernelspec": {
   "display_name": "Julia 1.11.0",
   "language": "julia",
   "name": "julia-1.11"
  },
  "language_info": {
   "file_extension": ".jl",
   "mimetype": "application/julia",
   "name": "julia",
   "version": "1.11.0"
  }
 },
 "nbformat": 4,
 "nbformat_minor": 5
}
