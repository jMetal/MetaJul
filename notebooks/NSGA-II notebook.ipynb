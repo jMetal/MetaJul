{
 "cells": [
  {
   "cell_type": "markdown",
   "id": "94d16fd5",
   "metadata": {},
   "source": [
    "# Examples of configuring and running NSGA-II\n",
    "\n",
    "This notebook includes examples where the NSGA-II algorithm is used to solve continuous and binary multi-objective problems. \n",
    "\n",
    "There are two basic ways of using NSGA-II with MetaJul. The first one is using the `EvolutionaryAlgorithm` struct, which must be populated with specific components characterizing NSGA-II, and the second one is based on the `NSGAII` struct, which constitutes a simpler way to obtain a standard NSGA-II but it does not offer the wide range of alternatives for setting up NSGA-II variants as the first option. We include in this notebook examples of both schemes in the notebook, starting by the second approach."
   ]
  },
  {
   "cell_type": "code",
   "execution_count": null,
   "id": "ebc4e903",
   "metadata": {},
   "outputs": [],
   "source": [
    "using MetaJul"
   ]
  },
  {
   "cell_type": "markdown",
   "id": "0d4dac18",
   "metadata": {},
   "source": [
    "## Configure NSGA-II to solve a continuous problem (Kursawe) using default settings"
   ]
  },
  {
   "cell_type": "markdown",
   "id": "86be3d7a",
   "metadata": {},
   "source": [
    "The first step is to instantiate the problem to be solve. In this case, we choose the classical Kursawe continuous problem."
   ]
  },
  {
   "cell_type": "code",
   "execution_count": null,
   "id": "f45c2dcd",
   "metadata": {},
   "outputs": [],
   "source": [
    "problem = kursawe() ;"
   ]
  },
  {
   "cell_type": "markdown",
   "id": "615b7de1",
   "metadata": {},
   "source": [
    "The settings of NSGA-II for continuous, used in many studies, are the following:\n",
    "``` Julia\n",
    "populationSize = 100\n",
    "mutation = PolynomialMutation(probability = 1.0/numberOfVariables(problem), distributionIndex = 20.0, bounds = problem.bounds)\n",
    "crossover = SBXCrossover(probability = 1.0, distributionIndes = 20.0, bounds = problem.bounds)\n",
    "termination = TerminationByEvaluations(25000)\n",
    "```\n",
    "\n",
    "so, to optimize the problem with NSGA-II, we only need to call the NSGA-II function:"
   ]
  },
  {
   "cell_type": "code",
   "execution_count": null,
   "id": "98dd62a7",
   "metadata": {},
   "outputs": [],
   "source": [
    "solver= NSGAII(problem);"
   ]
  },
  {
   "cell_type": "markdown",
   "id": "91d68298",
   "metadata": {},
   "source": [
    "Then we can run the algorithm and plot the results:"
   ]
  },
  {
   "cell_type": "code",
   "execution_count": null,
   "id": "87a8b2a1",
   "metadata": {},
   "outputs": [],
   "source": [
    "optimize!(solver)\n",
    "\n",
    "println(\"Computing time: \", computingTime(solver))"
   ]
  },
  {
   "cell_type": "code",
   "execution_count": null,
   "id": "25f035d4",
   "metadata": {},
   "outputs": [],
   "source": [
    "using Plots\n",
    " \n",
    "#data to plot\n",
    "x = [solution.objectives[1] for solution in foundSolutions(solver)];\n",
    "y = [solution.objectives[2] for solution in foundSolutions(solver)];\n",
    " \n",
    "gr();\n",
    " \n",
    "scatter(x, y,  title = \"Pareto front approximation\", label = \"Solutions\")\n",
    "xlabel!(\"First objective\")\n",
    "ylabel!(\"Second objective\")"
   ]
  },
  {
   "cell_type": "markdown",
   "id": "1b6c359f",
   "metadata": {},
   "source": [
    "## Configure NSGA-II to solve a continuous problem (Kursawe) using specific settings\n",
    "If we prefer to explicitly set the settings, we can do it in this way:"
   ]
  },
  {
   "cell_type": "code",
   "execution_count": null,
   "id": "bef9eff3",
   "metadata": {},
   "outputs": [],
   "source": [
    "mutation = UniformMutation(probability = 1.0/numberOfVariables(problem), perturbation = 0.5, bounds = problem.bounds)\n",
    "crossover = BLXAlphaCrossover(probability = 1.0, alpha = 0.5, bounds = problem.bounds)\n",
    "termination = TerminationByEvaluations(25000)\n",
    "\n",
    "nsgaII::NSGAII = NSGAII(problem, populationSize=50,termination=termination, mutation=mutation, crossover=crossover) ;"
   ]
  },
  {
   "cell_type": "markdown",
   "id": "479b963e",
   "metadata": {},
   "source": [
    "We run NSGA-II with the new settings and plot the obtained front"
   ]
  },
  {
   "cell_type": "code",
   "execution_count": null,
   "id": "d5445a96",
   "metadata": {},
   "outputs": [],
   "source": [
    "optimize!(nsgaII)\n",
    "\n",
    "println(\"Computing time: \", computingTime(nsgaII))"
   ]
  },
  {
   "cell_type": "code",
   "execution_count": null,
   "id": "83b0fd8f",
   "metadata": {},
   "outputs": [],
   "source": [
    " #data to plot\n",
    "x = [solution.objectives[1] for solution in foundSolutions(nsgaII)];\n",
    "y = [solution.objectives[2] for solution in foundSolutions(nsgaII)];\n",
    " \n",
    "gr();\n",
    " \n",
    "scatter(x, y,  title = \"Pareto front approximation\", label = \"Solutions\")\n",
    "xlabel!(\"First objective\")\n",
    "ylabel!(\"Second objective\")"
   ]
  },
  {
   "cell_type": "markdown",
   "id": "35cd566e",
   "metadata": {},
   "source": [
    "## Configure the algorithm to solve a binary problem using default setings (OneZeroMax)"
   ]
  },
  {
   "cell_type": "code",
   "execution_count": null,
   "id": "c3ad38df",
   "metadata": {},
   "outputs": [],
   "source": [
    "# The oneZeroMax function consists of miximizing the number of zeros and the number of ones in a binary string\n",
    "numberOfBits = 512\n",
    "problem = oneZeroMax(numberOfBits) ;"
   ]
  },
  {
   "cell_type": "markdown",
   "id": "9922b97e",
   "metadata": {},
   "source": [
    "The default settings for NSGA-II to solve binary problems are:\n",
    "``` Julia\n",
    "populationSize = 100, \n",
    "termination = TerminationByEvaluations(25000),\n",
    "mutation = BitFlipMutation(probability = 1.0 / problem.numberOfBits),\n",
    "crossover = SinglePointCrossover(probability = 1.0)\n",
    "```\n",
    "\n",
    "Consequently, the steps for creating and running the algorithm and plotting the found front are:"
   ]
  },
  {
   "cell_type": "code",
   "execution_count": null,
   "id": "686a628d",
   "metadata": {},
   "outputs": [],
   "source": [
    "solver = NSGAII(problem) ;"
   ]
  },
  {
   "cell_type": "code",
   "execution_count": null,
   "id": "9372c9fc",
   "metadata": {},
   "outputs": [],
   "source": [
    "optimize!(solver)\n",
    "\n",
    "println(\"Computing time: \", computingTime(solver)) ;"
   ]
  },
  {
   "cell_type": "code",
   "execution_count": null,
   "id": "1dd98476",
   "metadata": {},
   "outputs": [],
   "source": [
    "# data to plot\n",
    "x = [solution.objectives[1] for solution in foundSolutions(solver)];\n",
    "y = [solution.objectives[2] for solution in foundSolutions(solver)];\n",
    " \n",
    "gr();\n",
    " \n",
    "scatter(x, y,  title = \"Pareto front approximation\", label = \"Solutions\")\n",
    "xlabel!(\"First objective\")\n",
    "ylabel!(\"Second objective\")"
   ]
  },
  {
   "cell_type": "markdown",
   "id": "8a369f26",
   "metadata": {},
   "source": [
    "## Configure the algorithm to solve a binary problem using specific setings (OneZeroMax)\n",
    "We give now an example of configuring NSGA-II with specific settings:"
   ]
  },
  {
   "cell_type": "code",
   "execution_count": null,
   "id": "afdace3a",
   "metadata": {},
   "outputs": [],
   "source": [
    "termination = TerminationByEvaluations(10000)\n",
    "mutation = BitFlipMutation(probability = 1.0 / problem.numberOfBits)\n",
    "crossover = SinglePointCrossover(probability = 0.9)\n",
    "\n",
    "solver::NSGAII = NSGAII(problem, populationSize=50,termination=termination, mutation=mutation, crossover=crossover) ;"
   ]
  },
  {
   "cell_type": "markdown",
   "id": "9a6ade32",
   "metadata": {},
   "source": []
  },
  {
   "cell_type": "code",
   "execution_count": null,
   "id": "6303597b",
   "metadata": {},
   "outputs": [],
   "source": [
    "optimize!(solver)\n",
    "\n",
    "println(\"Computing time: \", computingTime(solver))"
   ]
  },
  {
   "cell_type": "code",
   "execution_count": null,
   "id": "46521840",
   "metadata": {},
   "outputs": [],
   "source": [
    "# data to plot\n",
    "x = [solution.objectives[1] for solution in foundSolutions(solver)];\n",
    "y = [solution.objectives[2] for solution in foundSolutions(solver)];\n",
    " \n",
    "gr();\n",
    " \n",
    "scatter(x, y,  title = \"Pareto front approximation\", label = \"Solutions\")\n",
    "xlabel!(\"First objective\")\n",
    "ylabel!(\"Second objective\")"
   ]
  },
  {
   "cell_type": "markdown",
   "id": "c4f0a747",
   "metadata": {},
   "source": [
    "## Configure NSGA-II with by using the `EvolutionaryComputation` struct\n",
    "\n",
    "The definition of the `NSGA-II` struct contains a field called `solver` that is of type `EvolutionaryAlgorithm`, which is an approach that can be adopted to simulate, to some extent, object-orientation in Julia. However, we can directly use the `EvolutionaryAlgorithm` struct to create a NSGA-II algorithm. This scheme which requires to create all the components characterizing NSGA-II, but it has the advantage of allowing a higher flexibility grade (see the example notebooks to incorporate external archives to NSGA-II). "
   ]
  },
  {
   "cell_type": "code",
   "execution_count": null,
   "id": "7fde4f75",
   "metadata": {},
   "outputs": [],
   "source": [
    "problem = ZDT2() ;"
   ]
  },
  {
   "cell_type": "markdown",
   "id": "37957d52",
   "metadata": {},
   "source": [
    "### Step 1: creating the evolutionary algorithm struct"
   ]
  },
  {
   "cell_type": "code",
   "execution_count": null,
   "id": "4a9ea98d",
   "metadata": {},
   "outputs": [],
   "source": [
    "nsgaII::EvolutionaryAlgorithm = EvolutionaryAlgorithm()\n",
    "nsgaII.name = \"NSGA-II\" ;"
   ]
  },
  {
   "cell_type": "markdown",
   "id": "11cbc2c6",
   "metadata": {},
   "source": [
    "### Step 2: specifying the population size and offspring population sizes\n",
    "NSGA-II is, by default, a generational evolutionary algorithm, but a steady-state version can be instatiated by using an offspring population size of 1."
   ]
  },
  {
   "cell_type": "code",
   "execution_count": null,
   "id": "23d552c4",
   "metadata": {},
   "outputs": [],
   "source": [
    "populationSize = 100\n",
    "offspringPopulationSize = 100 ; # Use 1 for a steady-state version."
   ]
  },
  {
   "cell_type": "markdown",
   "id": "0181d60a",
   "metadata": {},
   "source": [
    "### Step 3: creating the `SolutionsCreation`, `Evaluation`, and `Termination` components:"
   ]
  },
  {
   "cell_type": "code",
   "execution_count": null,
   "id": "1ada7a99",
   "metadata": {},
   "outputs": [],
   "source": [
    "nsgaII.solutionsCreation = DefaultSolutionsCreation(problem, populationSize)\n",
    "nsgaII.evaluation = SequentialEvaluation(problem)\n",
    "nsgaII.termination = TerminationByEvaluations(25000) ;"
   ]
  },
  {
   "cell_type": "markdown",
   "id": "70328550",
   "metadata": {},
   "source": [
    "### Step 4: creating the `Variation` components from the crossover and mutation operators\n",
    "The `Variation` components requiere to know the offspring population size to compute the matting pool size (i.e., the number of parents that the `Selection` component must produce), which depends directly on the n-arity of the crossover operator."
   ]
  },
  {
   "cell_type": "code",
   "execution_count": null,
   "id": "b9c49e6a",
   "metadata": {},
   "outputs": [],
   "source": [
    "mutation = PolynomialMutation(probability = 1.0 / numberOfVariables(problem), distributionIndex = 20.0, bounds = problem.bounds)\n",
    "crossover = SBXCrossover(probability = 0.9, distributionIndex = 20.0, bounds = problem.bounds)\n",
    "\n",
    "nsgaII.variation = CrossoverAndMutationVariation(offspringPopulationSize, crossover, mutation) ;"
   ]
  },
  {
   "cell_type": "markdown",
   "id": "f568e773",
   "metadata": {},
   "source": [
    "### Step 5: creating the `Selection` component\n",
    "The default selection in NSGA-II is binary tournament:"
   ]
  },
  {
   "cell_type": "code",
   "execution_count": null,
   "id": "a7656c47",
   "metadata": {},
   "outputs": [],
   "source": [
    "nsgaII.selection = BinaryTournamentSelection(nsgaII.variation.matingPoolSize, DefaultDominanceComparator());"
   ]
  },
  {
   "cell_type": "markdown",
   "id": "eb455146",
   "metadata": {},
   "source": [
    "### Step 6: creating the `Replacement` component \n",
    "The main feature of NSGA-II is a replacement step that joins the population and the offspring population, sorts the result by using non-dominance ranking and finally apply a density estimator based on the crowding distance:"
   ]
  },
  {
   "cell_type": "code",
   "execution_count": null,
   "id": "ce100f0e",
   "metadata": {},
   "outputs": [],
   "source": [
    "nsgaII.replacement = RankingAndDensityEstimatorReplacement(DominanceRanking(DefaultDominanceComparator()), CrowdingDistanceDensityEstimator()) ;"
   ]
  },
  {
   "cell_type": "markdown",
   "id": "c27a4055",
   "metadata": {},
   "source": [
    "### Step 7: running the algorithm \n",
    "Once the evolutionary algorithm struct is filled with the NSGA-II components, the resulting algorithm can be executed and the found Pareto front approximation can be plotted:"
   ]
  },
  {
   "cell_type": "code",
   "execution_count": null,
   "id": "9731d483",
   "metadata": {},
   "outputs": [],
   "source": [
    "optimize!(nsgaII);"
   ]
  },
  {
   "cell_type": "code",
   "execution_count": null,
   "id": "1e7fed23",
   "metadata": {},
   "outputs": [],
   "source": [
    "x = [solution.objectives[1] for solution in foundSolutions(nsgaII)];\n",
    "y = [solution.objectives[2] for solution in foundSolutions(nsgaII)];\n",
    " \n",
    "gr();\n",
    " \n",
    "scatter(x, y,  title = \"Pareto front approximation\", label = \"Solutions\")\n",
    "xlabel!(\"First objective\")\n",
    "ylabel!(\"Second objective\")"
   ]
  },
  {
   "cell_type": "code",
   "execution_count": null,
   "id": "dd9eab30",
   "metadata": {},
   "outputs": [],
   "source": []
  }
 ],
 "metadata": {
  "kernelspec": {
   "display_name": "Julia 1.11.0",
   "language": "julia",
   "name": "julia-1.11"
  },
  "language_info": {
   "file_extension": ".jl",
   "mimetype": "application/julia",
   "name": "julia",
   "version": "1.11.0"
  }
 },
 "nbformat": 4,
 "nbformat_minor": 5
}
