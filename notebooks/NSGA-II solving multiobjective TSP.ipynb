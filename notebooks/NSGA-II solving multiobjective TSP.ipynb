{
 "cells": [
  {
   "cell_type": "markdown",
   "id": "94d16fd5",
   "metadata": {},
   "source": [
    "#  NSGA-II solving multi-objective TSP\n",
    "\n",
    "This notebook shows how to use NSGA-II to solve a bi-objective TSP problem."
   ]
  },
  {
   "cell_type": "code",
   "execution_count": null,
   "id": "ebc4e903",
   "metadata": {},
   "outputs": [],
   "source": [
    "using MetaJul\n",
    "\n",
    "tsp_data_dir = joinpath(@__DIR__, \"..\", \"resources/tspDataFiles\")"
   ]
  },
  {
   "cell_type": "code",
   "execution_count": null,
   "id": "f45c2dcd",
   "metadata": {
    "scrolled": true
   },
   "outputs": [],
   "source": [
    "problem = multiObjectiveTSP(\"kroAB100\", [joinpath(tsp_data_dir, \"kroA100.tsp\"), joinpath(tsp_data_dir, \"kroB100.tsp\")])"
   ]
  },
  {
   "cell_type": "markdown",
   "id": "615b7de1",
   "metadata": {},
   "source": [
    "## Standard NSGA-II configured with default settings"
   ]
  },
  {
   "cell_type": "code",
   "execution_count": null,
   "id": "bef9eff3",
   "metadata": {},
   "outputs": [],
   "source": [
    "solver::NSGAII = NSGAII(problem)"
   ]
  },
  {
   "cell_type": "markdown",
   "id": "479b963e",
   "metadata": {},
   "source": [
    "### Run the algorithm"
   ]
  },
  {
   "cell_type": "code",
   "execution_count": null,
   "id": "d5445a96",
   "metadata": {},
   "outputs": [],
   "source": [
    "optimize!(solver) ;\n",
    "\n",
    "println(\"Computing time: \", computingTime(solver))"
   ]
  },
  {
   "cell_type": "markdown",
   "id": "545b54c9",
   "metadata": {},
   "source": [
    "### Print the results"
   ]
  },
  {
   "cell_type": "code",
   "execution_count": null,
   "id": "83b0fd8f",
   "metadata": {},
   "outputs": [],
   "source": [
    "using Plots\n",
    " \n",
    "#data to plot\n",
    "x = [solution.objectives[1] for solution in foundSolutions(solver)];\n",
    "y = [solution.objectives[2] for solution in foundSolutions(solver)];\n",
    " \n",
    "gr();\n",
    " \n",
    "scatter(x, y,  title = \"Pareto front approximation\", label = \"Solutions\")\n",
    "xlabel!(\"First objective\")\n",
    "ylabel!(\"Second objective\")"
   ]
  }
 ],
 "metadata": {
  "kernelspec": {
   "display_name": "Julia 1.11.0",
   "language": "julia",
   "name": "julia-1.11"
  },
  "language_info": {
   "file_extension": ".jl",
   "mimetype": "application/julia",
   "name": "julia",
   "version": "1.11.0"
  }
 },
 "nbformat": 4,
 "nbformat_minor": 5
}
